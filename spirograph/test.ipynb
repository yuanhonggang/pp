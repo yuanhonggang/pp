{
 "cells": [
  {
   "cell_type": "code",
   "execution_count": null,
   "metadata": {},
   "outputs": [],
   "source": [
    "\"\"\"\n",
    "test.py\n",
    "\n",
    "Testing Turtle graphics\n",
    "\n",
    "Author: Mahesh Venkitachalam\n",
    "Website: electronut.in\n",
    "\"\"\""
   ]
  },
  {
   "cell_type": "code",
   "execution_count": null,
   "metadata": {},
   "outputs": [],
   "source": [
    "import math\n",
    "import turtle"
   ]
  },
  {
   "cell_type": "code",
   "execution_count": null,
   "metadata": {},
   "outputs": [],
   "source": [
    "# draw circle using turtle\n",
    "def drawCircleTurtle(x, y, r):\n",
    "    # got to start of circle\n",
    "    turtle.up()\n",
    "    turtle.setpos(x + r, y)\n",
    "    turtle.down()\n",
    "\n",
    "\n",
    "    # draw circle\n",
    "    for i in range(0, 365, 5):\n",
    "        a = math.radians(i)\n",
    "        turtle.setpos(x + r*math.cos(a), y + r*math.sin(a))"
   ]
  },
  {
   "cell_type": "code",
   "execution_count": null,
   "metadata": {},
   "outputs": [],
   "source": [
    "# draw spiral using turtle\n",
    "def drawSpiralTurtle(x, y, r):\n",
    "    # got to start of spiral\n",
    "    turtle.up()\n",
    "    turtle.setpos(x + r, y)\n",
    "    turtle.down()\n",
    "\n",
    "    # draw spiral\n",
    "    for i in range(0, 360*10, 5):\n",
    "        a = math.radians(i)\n",
    "        x = r*math.cos(a)*math.exp(0.05*a)\n",
    "        y = r*math.sin(a)*math.exp(0.05*a)\n",
    "        turtle.setpos(x, y)"
   ]
  },
  {
   "cell_type": "code",
   "execution_count": null,
   "metadata": {},
   "outputs": [],
   "source": [
    "def main():\n",
    "    print('testing...')\n",
    "    \n",
    "    #drawCircleTurtle(100, 100, 50)\n",
    "\n",
    "    drawSpiralTurtle(0, 0, 5)\n",
    "\n",
    "    turtle.mainloop()\n",
    "\n",
    "# call main\n",
    "if __name__ == '__main__':\n",
    "  main()"
   ]
  },
  {
   "cell_type": "code",
   "execution_count": null,
   "metadata": {},
   "outputs": [],
   "source": []
  },
  {
   "cell_type": "code",
   "execution_count": null,
   "metadata": {},
   "outputs": [],
   "source": []
  }
 ],
 "metadata": {
  "kernelspec": {
   "display_name": "Python 3",
   "language": "python",
   "name": "python3"
  },
  "language_info": {
   "codemirror_mode": {
    "name": "ipython",
    "version": 3
   },
   "file_extension": ".py",
   "mimetype": "text/x-python",
   "name": "python",
   "nbconvert_exporter": "python",
   "pygments_lexer": "ipython3",
   "version": "3.7.6"
  }
 },
 "nbformat": 4,
 "nbformat_minor": 2
}
